{
  "cells": [
    {
      "cell_type": "code",
      "execution_count": null,
      "metadata": {
        "id": "iHe-2VGVrzAl"
      },
      "outputs": [],
      "source": [
        "token =...#GITHUB TOKEN"
      ]
    },
    {
      "cell_type": "code",
      "execution_count": null,
      "metadata": {
        "colab": {
          "base_uri": "https://localhost:8080/"
        },
        "id": "x3C_PnjUqB7m",
        "outputId": "1e4f216d-401e-4083-dd97-4571ae407078"
      },
      "outputs": [],
      "source": [
        "! git clone https://{token}@github.com/Professor322/genai_task.git"
      ]
    },
    {
      "cell_type": "code",
      "execution_count": null,
      "metadata": {
        "colab": {
          "base_uri": "https://localhost:8080/"
        },
        "id": "ljZPwpjls7Ry",
        "outputId": "c0f3d64f-a9c7-4bb1-f0de-2dab14593fbb"
      },
      "outputs": [],
      "source": [
        "! pip install gdown"
      ]
    },
    {
      "cell_type": "code",
      "execution_count": null,
      "metadata": {
        "colab": {
          "base_uri": "https://localhost:8080/"
        },
        "id": "Glk69_P3s-Aj",
        "outputId": "62296136-c075-4c89-a9ab-37d69f667079"
      },
      "outputs": [],
      "source": [
        "! gdown --fuzzy https://drive.google.com/file/d/1mDVacZimuy-4hWNylqlBDAO740Hup3W5/view?usp=sharing"
      ]
    },
    {
      "cell_type": "code",
      "execution_count": null,
      "metadata": {
        "colab": {
          "base_uri": "https://localhost:8080/"
        },
        "id": "0Ce2CPyKt6o3",
        "outputId": "9555459b-d4a4-497a-838a-48c557ec069a"
      },
      "outputs": [],
      "source": [
        "! unzip food_data.zip"
      ]
    },
    {
      "cell_type": "code",
      "execution_count": null,
      "metadata": {
        "id": "JZhBpKHAuIeg"
      },
      "outputs": [],
      "source": [
        "WANDB_KEY=...#WANDB TOKEN"
      ]
    },
    {
      "cell_type": "code",
      "execution_count": null,
      "metadata": {
        "colab": {
          "base_uri": "https://localhost:8080/"
        },
        "id": "-3edBNFIu8-U",
        "outputId": "f4d4b574-2c6d-4bcc-9f7c-8c5eb570a519"
      },
      "outputs": [],
      "source": [
        "%cd genai_task"
      ]
    },
    {
      "cell_type": "code",
      "execution_count": null,
      "metadata": {
        "colab": {
          "base_uri": "https://localhost:8080/",
          "height": 1000
        },
        "id": "czMCORfHvB2V",
        "outputId": "3e401508-ae83-413a-81d5-20aa8ec24acb"
      },
      "outputs": [],
      "source": [
        "! pip install -r requirements.txt"
      ]
    },
    {
      "cell_type": "code",
      "execution_count": null,
      "metadata": {
        "colab": {
          "background_save": true,
          "base_uri": "https://localhost:8080/"
        },
        "id": "S5WKGOEqvPMJ",
        "outputId": "973c5030-7744-42c6-a8b9-f230566628e7"
      },
      "outputs": [],
      "source": [
        "! WANDB_KEY={WANDB_KEY} python3 train.py exp.config_path=./configs/diffusion_train.yaml"
      ]
    }
  ],
  "metadata": {
    "accelerator": "GPU",
    "colab": {
      "gpuType": "L4",
      "machine_shape": "hm",
      "provenance": []
    },
    "kernelspec": {
      "display_name": "Python 3",
      "name": "python3"
    },
    "language_info": {
      "name": "python"
    }
  },
  "nbformat": 4,
  "nbformat_minor": 0
}
